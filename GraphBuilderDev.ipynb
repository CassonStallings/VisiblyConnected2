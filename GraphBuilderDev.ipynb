{
 "metadata": {
  "name": ""
 },
 "nbformat": 3,
 "nbformat_minor": 0,
 "worksheets": [
  {
   "cells": [
    {
     "cell_type": "code",
     "collapsed": false,
     "input": [
      "\n",
      "import copy, csv, uuid, re\n",
      "import json\n",
      "import networkx \n",
      "import matplotlib.pyplot as plt\n",
      "\n",
      "\n",
      "class GraphBuilder(networkx.classes.graph.Graph):\n",
      "    \"\"\"Extend .\"\"\"\n",
      "\n",
      "\n",
      "    def __init__(self):\n",
      "        #self = networkx.classes.graph.Graph.__init__(self)\n",
      "        super(GraphBuilder, self).__init__()\n",
      "        self.node_properties = ['_id', 'video_embeds', 'web_presences', 'degrees', 'relationships', 'external_links',\n",
      "                            'milestones', 'investments', 'image','funds', 'funding_rounds', 'providerships',\n",
      "                            'tag_list', 'offices', 'partners', 'products', 'screenshots', 'competitions',\n",
      "                            'acquisitions', 'acquisition', 'ipo',  'available_sizes']\n",
      "        self.edge_properties = []\n",
      "        self.node_drop_properties = []\n",
      "        self.node_filter = lambda x: True\n",
      "        \n",
      "    def add_nodes_from_crunchbase(self, file_name):\n",
      "        with open(file_name, 'rt') as fil:\n",
      "            node_dict = json.loads(fil.read())\n",
      "        nodes_added = 0\n",
      "        for k, d in node_dict.items():\n",
      "            print 'key', k\n",
      "            if self.node_filter(d):\n",
      "                for p in self.node_drop_properties:\n",
      "                    if d.has_key(p):\n",
      "                        del d[p]\n",
      "                self.add_node(k, d)\n",
      "                nodes_added += 1\n",
      "        return nodes_added\n",
      "    "
     ],
     "language": "python",
     "metadata": {},
     "outputs": [],
     "prompt_number": 60
    },
    {
     "cell_type": "code",
     "collapsed": false,
     "input": [
      "x = GraphBuilder()\n",
      "x.add_nodes_from_crunchbase('data\\person_pages.json')\n",
      "print x.nodes(data=True)"
     ],
     "language": "python",
     "metadata": {},
     "outputs": [
      {
       "output_type": "stream",
       "stream": "stdout",
       "text": [
        "key takeshi-niinami\n",
        "key charles-noonan\n",
        "key todd-snyder\n",
        "key gerard-sebastian\n",
        "key marcus-siezing\n",
        "[(u'takeshi-niinami', {u'last_name': u'Niinami', u'crunchbase_url': u'http://www.crunchbase.com/person/takeshi-niinami', u'video_embeds': [], u'overview': None, u'image': None, u'updated_at': u'Mon Apr 21 13:03:14 UTC 2014', u'affiliation_name': u'Unaffiliated', u'web_presences': [], u'born_month': None, u'first_name': u'Takeshi', u'degrees': [], u'blog_feed_url': None, u'born_year': None, u'relationships': [{u'is_past': False, u'firm': {u'type_of_entity': u'company', u'permalink': u'lawson', u'name': u'Lawson'}, u'title': u'CEO'}], u'born_day': None, u'birthplace': None, u'twitter_username': None, u'external_links': [], u'alias_list': None, u'permalink': u'takeshi-niinami', u'milestones': [], u'created_at': u'Mon Apr 21 13:03:14 UTC 2014', u'homepage_url': None, u'blog_url': None, u'tag_list': None, u'investments': []}), (u'charles-noonan', {u'last_name': u'Noonan', u'crunchbase_url': u'http://www.crunchbase.com/person/charles-noonan', u'video_embeds': [], u'overview': None, u'image': None, u'updated_at': u'Mon Apr 21 22:28:24 UTC 2014', u'affiliation_name': u'Unaffiliated', u'web_presences': [], u'born_month': None, u'first_name': u'Charles', u'degrees': [], u'blog_feed_url': None, u'born_year': None, u'relationships': [], u'born_day': None, u'birthplace': None, u'twitter_username': None, u'external_links': [], u'alias_list': None, u'permalink': u'charles-noonan', u'milestones': [], u'created_at': u'Mon Apr 21 22:28:24 UTC 2014', u'homepage_url': None, u'blog_url': None, u'tag_list': None, u'investments': [{u'funding_round': {u'funded_month': 5, u'source_description': u'', u'round_code': u'seed', u'raised_amount': 300000.0, u'source_url': u'', u'raised_currency_code': u'USD', u'funded_year': 2013, u'funded_day': 16, u'company': {u'permalink': u'qapital', u'name': u'Qapital'}}}]}), (u'todd-snyder', {u'last_name': u'Snyder', u'crunchbase_url': u'http://www.crunchbase.com/person/todd-snyder', u'video_embeds': [], u'overview': None, u'image': None, u'updated_at': u'Mon Apr 21 22:37:22 UTC 2014', u'affiliation_name': u'Unaffiliated', u'web_presences': [], u'born_month': None, u'first_name': u'Todd', u'degrees': [], u'blog_feed_url': None, u'born_year': None, u'relationships': [], u'born_day': None, u'birthplace': None, u'twitter_username': None, u'external_links': [], u'alias_list': None, u'permalink': u'todd-snyder', u'milestones': [], u'created_at': u'Mon Apr 21 22:37:22 UTC 2014', u'homepage_url': None, u'blog_url': None, u'tag_list': None, u'investments': [{u'funding_round': {u'funded_month': 5, u'source_description': u'', u'round_code': u'a', u'raised_amount': 3440000.0, u'source_url': u'', u'raised_currency_code': u'USD', u'funded_year': 2013, u'funded_day': 17, u'company': {u'permalink': u'learn-with-homer', u'name': u'Learn with Homer'}}}]}), (u'gerard-sebastian', {u'last_name': u'Sebastian', u'crunchbase_url': u'http://www.crunchbase.com/person/gerard-sebastian', u'video_embeds': [], u'overview': None, u'image': None, u'updated_at': u'Mon Apr 21 12:54:29 UTC 2014', u'affiliation_name': u'Unaffiliated', u'web_presences': [], u'born_month': None, u'first_name': u'Gerard', u'degrees': [], u'blog_feed_url': None, u'born_year': None, u'relationships': [{u'is_past': False, u'firm': {u'type_of_entity': u'company', u'permalink': u'evaluate', u'name': u'Evaluate'}, u'title': u'CFO'}], u'born_day': None, u'birthplace': None, u'twitter_username': None, u'external_links': [], u'alias_list': None, u'permalink': u'gerard-sebastian', u'milestones': [], u'created_at': u'Mon Apr 21 12:54:29 UTC 2014', u'homepage_url': None, u'blog_url': None, u'tag_list': None, u'investments': []}), (u'marcus-siezing', {u'last_name': u'Siezing', u'crunchbase_url': u'http://www.crunchbase.com/person/marcus-siezing', u'video_embeds': [], u'overview': None, u'image': None, u'updated_at': u'Mon Apr 21 22:28:24 UTC 2014', u'affiliation_name': u'Unaffiliated', u'web_presences': [], u'born_month': None, u'first_name': u'Marcus', u'degrees': [], u'blog_feed_url': None, u'born_year': None, u'relationships': [], u'born_day': None, u'birthplace': None, u'twitter_username': None, u'external_links': [], u'alias_list': None, u'permalink': u'marcus-siezing', u'milestones': [], u'created_at': u'Mon Apr 21 22:28:24 UTC 2014', u'homepage_url': None, u'blog_url': None, u'tag_list': None, u'investments': [{u'funding_round': {u'funded_month': 5, u'source_description': u'', u'round_code': u'seed', u'raised_amount': 300000.0, u'source_url': u'', u'raised_currency_code': u'USD', u'funded_year': 2013, u'funded_day': 16, u'company': {u'permalink': u'qapital', u'name': u'Qapital'}}}]})]\n"
       ]
      }
     ],
     "prompt_number": 64
    },
    {
     "cell_type": "code",
     "collapsed": false,
     "input": [
      "import GraphBuilder as gb"
     ],
     "language": "python",
     "metadata": {},
     "outputs": [
      {
       "ename": "ImportError",
       "evalue": "No module named GraphBuilder",
       "output_type": "pyerr",
       "traceback": [
        "\u001b[1;31m---------------------------------------------------------------------------\u001b[0m\n\u001b[1;31mImportError\u001b[0m                               Traceback (most recent call last)",
        "\u001b[1;32m<ipython-input-3-96dab722b692>\u001b[0m in \u001b[0;36m<module>\u001b[1;34m()\u001b[0m\n\u001b[1;32m----> 1\u001b[1;33m \u001b[1;32mimport\u001b[0m \u001b[0mGraphBuilder\u001b[0m \u001b[1;32mas\u001b[0m \u001b[0mgb\u001b[0m\u001b[1;33m\u001b[0m\u001b[0m\n\u001b[0m",
        "\u001b[1;31mImportError\u001b[0m: No module named GraphBuilder"
       ]
      }
     ],
     "prompt_number": 3
    }
   ],
   "metadata": {}
  }
 ]
}